{
 "cells": [
  {
   "cell_type": "markdown",
   "id": "239155d3",
   "metadata": {},
   "source": [
    "# 📊 Predicción de gastos recurrentes por cliente y comercio\n",
    "\n",
    "Este análisis busca identificar patrones de gasto mensuales o bimestrales por cliente y comercio, para anticipar transacciones futuras en el mes más reciente disponible (ultimo_mes). Se realiza un filtrado de datos, agrupación, análisis de recurrencia y finalmente una validación para medir la precisión del modelo."
   ]
  },
  {
   "cell_type": "markdown",
   "id": "10e44c7c",
   "metadata": {},
   "source": [
    "## 🧾 1. Lectura y preparación de los datos\n",
    "\n",
    "Se importa el dataset con información de transacciones y se clasifica cada comercio en una categoría de gasto."
   ]
  },
  {
   "cell_type": "code",
   "execution_count": null,
   "id": "42bce5cb",
   "metadata": {},
   "outputs": [],
   "source": [
    "import pandas as pd\n",
    "import numpy as np\n",
    "from datetime import datetime\n",
    "import calendar"
   ]
  },
  {
   "cell_type": "code",
   "execution_count": null,
   "id": "87646ed7",
   "metadata": {},
   "outputs": [],
   "source": []
  },
  {
   "cell_type": "code",
   "execution_count": null,
   "id": "771364ee",
   "metadata": {},
   "outputs": [],
   "source": [
    "df_1  = pd.read_csv('base_clientes_final.csv')\n",
    "df_2 = pd.read_csv('base_transacciones_final_SINtypeos.csv')\n",
    "df = pd.merge(df_1, df_2, how='outer', on='id')\n",
    "#df.to_csv('bases_merged.csv', index=False)"
   ]
  },
  {
   "cell_type": "code",
   "execution_count": null,
   "id": "0dbddfc9",
   "metadata": {},
   "outputs": [],
   "source": [
    "#df =pd.read_csv(\"bases_merged.csv\", sep=\",\", encoding=\"utf-8\")\n",
    "categoria_gasto = {\n",
    "    \"Movilidad y transporte\": [\"UBER\", \"DIDI\", \"UBRPAGOSMEX\", \"METROBUS\", \"RENTAMOVISTAR\", \"TOTAL PASS\", \"OXXO GAS\"],\n",
    "    \"Comida y bebida\": [\"STARBUCKS\", \"OXXO\", \"WALMART\", \"CARLS JR\", \"HEB\", \"SUPERAMA\", \"CHEDRAUI\", \"RAPPI\", \"UBER EATS\", \"DIDI FOOD\", \"7 ELEVEN\"],\n",
    "    \"Entretenimiento y streaming\": [\"NETFLIX\", \"SPOTIFY\", \"DISNEY PLUS\", \"VIX\", \"ROKU\", \"PLAYSTATION NETWORK\", \"ITUNES\", \"AUDIBLE\", \"CRUNCHYROLL\", \"CINEPOLIS\"],\n",
    "    \"Compras y retail\": [\"AMAZON\", \"AMAZON PRIME\", \"MERCADOPAGO\", \"MERCADO PAGO\", \"LIVERPOOL\", \"SAMS CLUB\", \"SEARS\", \"SHEIN\", \"TEMU\", \"COPPEL\"],\n",
    "    \"Servicios financieros y pagos\": [\"KUESKI\", \"KUESKI PAY\", \"APLAZO\", \"CASHI\", \"TELCEL\", \"GOOGLE PAY\", \"APPLE PAY\", \"ALLIANZ\", \"BANAMEX\", \"SOFT RAPPI\", \"MI ATT\", \"ATT\"],\n",
    "    \"Tecnología y software\": [\"MICROSOFT\", \"ADOBE\", \"GOOGLE\", \"GOOGLE ONE\", \"CANVA\", \"OPENAI\"],\n",
    "    \"Salud y farmacia\": [\"FARMACIAS DEL AHORRO\", \"FARMACIAS GUADALAJARA\", \"ALSUPER\", \"FARMACIAS SIMILARES\"],\n",
    "    \"Gasto en hogar\": [\"IZZI\", \"TOTALPLAY\", \"MEGACABLE\", \"TELMEX\", \"CFE\", \"ROTOPLAS\"],\n",
    "    \"Educación y cultura\": [\"LIBRERIAS\", \"EDUCACION\", \"CURSOS\", \"SMART FIT\"],\n",
    "}"
   ]
  },
  {
   "cell_type": "markdown",
   "id": "19cc0d0b",
   "metadata": {},
   "source": [
    "## 🗂️ 2. Preparación temporal del dataset\n",
    "\n",
    "Se convierte la columna de fechas y se genera una nueva columna de año-mes (año_mes) para facilitar la agrupación."
   ]
  },
  {
   "cell_type": "code",
   "execution_count": 2,
   "id": "5f37b79b",
   "metadata": {},
   "outputs": [],
   "source": [
    "df['fecha'] = pd.to_datetime(df['fecha'], dayfirst=True)\n",
    "df['año_mes'] = df['fecha'].dt.to_period('M')"
   ]
  },
  {
   "cell_type": "markdown",
   "id": "f302f96a",
   "metadata": {},
   "source": [
    "## 📉 3. Generación de resumen mensual\n",
    "\n",
    "Agrupamos por cliente (id), comercio y mes, obteniendo el total de gasto y número de transacciones."
   ]
  },
  {
   "cell_type": "code",
   "execution_count": 3,
   "id": "5531bb12",
   "metadata": {},
   "outputs": [],
   "source": [
    "resumen_mensual = df.groupby(['id', 'comercio', 'año_mes']).agg(\n",
    "    monto_total=('monto', 'sum'),\n",
    "    transacciones_mes=('monto', 'count')\n",
    ").reset_index()\n",
    "\n",
    "ultimo_mes = df['año_mes'].max()  # Último mes del dataset"
   ]
  },
  {
   "cell_type": "markdown",
   "id": "1838f168",
   "metadata": {},
   "source": [
    "## 🔁 4. Detección de patrones recurrentes\n",
    "\n",
    "Se analiza la secuencia de gastos por cliente y comercio para detectar patrones mensuales o bimestrales consistentes antes del ultimo_mes, y se estima si habrá una nueva transacción en ese último mes."
   ]
  },
  {
   "cell_type": "code",
   "execution_count": 6,
   "id": "dbf0f90f",
   "metadata": {},
   "outputs": [
    {
     "data": {
      "application/vnd.microsoft.datawrangler.viewer.v0+json": {
       "columns": [
        {
         "name": "index",
         "rawType": "int64",
         "type": "integer"
        },
        {
         "name": "id",
         "rawType": "object",
         "type": "string"
        },
        {
         "name": "comercio",
         "rawType": "object",
         "type": "string"
        },
        {
         "name": "patron",
         "rawType": "object",
         "type": "string"
        },
        {
         "name": "fecha_estimado",
         "rawType": "datetime64[ns]",
         "type": "datetime"
        },
        {
         "name": "monto_estimado",
         "rawType": "float64",
         "type": "float"
        },
        {
         "name": "promedio_transacciones_mes",
         "rawType": "float64",
         "type": "float"
        },
        {
         "name": "meses_de_recurrencia",
         "rawType": "int64",
         "type": "integer"
        }
       ],
       "ref": "3b65c73e-72bb-4eff-8dc6-2af658ee398d",
       "rows": [
        [
         "0",
         "003d9abe467a91847d566cf455bd2d7d6c8f7e75",
         "AMAZON PRIME",
         "mensual",
         "2023-01-05 00:00:00",
         "11.62",
         "1.0",
         "11"
        ],
        [
         "1",
         "003d9abe467a91847d566cf455bd2d7d6c8f7e75",
         "DIDI RIDES",
         "mensual",
         "2023-01-05 00:00:00",
         "87.42",
         "10.18",
         "11"
        ],
        [
         "2",
         "003d9abe467a91847d566cf455bd2d7d6c8f7e75",
         "MERCADO PAGO",
         "mensual",
         "2023-01-05 00:00:00",
         "51.05",
         "1.86",
         "7"
        ],
        [
         "3",
         "003d9abe467a91847d566cf455bd2d7d6c8f7e75",
         "SPOTIFY",
         "mensual",
         "2023-01-05 00:00:00",
         "23.1",
         "1.0",
         "11"
        ],
        [
         "4",
         "003d9abe467a91847d566cf455bd2d7d6c8f7e75",
         "UBER",
         "mensual",
         "2023-01-05 00:00:00",
         "257.08",
         "31.73",
         "11"
        ],
        [
         "5",
         "0066f66c7fb0d1102f9f924a56ff65a5fcaf3cea",
         "AMAZON",
         "mensual",
         "2023-01-05 00:00:00",
         "121.26",
         "2.91",
         "11"
        ],
        [
         "6",
         "0066f66c7fb0d1102f9f924a56ff65a5fcaf3cea",
         "AMAZON PRIME",
         "mensual",
         "2023-01-05 00:00:00",
         "11.62",
         "1.0",
         "7"
        ],
        [
         "7",
         "0066f66c7fb0d1102f9f924a56ff65a5fcaf3cea",
         "CHEDRAUI",
         "mensual",
         "2023-01-05 00:00:00",
         "228.88",
         "4.33",
         "3"
        ],
        [
         "8",
         "0066f66c7fb0d1102f9f924a56ff65a5fcaf3cea",
         "COSTCO",
         "mensual",
         "2023-01-05 00:00:00",
         "519.7",
         "2.8",
         "5"
        ],
        [
         "9",
         "0066f66c7fb0d1102f9f924a56ff65a5fcaf3cea",
         "LIVERPOOL",
         "mensual",
         "2023-01-05 00:00:00",
         "469.0",
         "2.25",
         "4"
        ],
        [
         "10",
         "0066f66c7fb0d1102f9f924a56ff65a5fcaf3cea",
         "MICROSOFT",
         "mensual",
         "2023-01-05 00:00:00",
         "83.26",
         "2.73",
         "11"
        ],
        [
         "11",
         "0066f66c7fb0d1102f9f924a56ff65a5fcaf3cea",
         "NETFLIX",
         "mensual",
         "2023-01-05 00:00:00",
         "16.21",
         "1.0",
         "9"
        ],
        [
         "12",
         "0066f66c7fb0d1102f9f924a56ff65a5fcaf3cea",
         "OXXO",
         "mensual",
         "2023-01-05 00:00:00",
         "66.71",
         "5.82",
         "11"
        ],
        [
         "13",
         "0066f66c7fb0d1102f9f924a56ff65a5fcaf3cea",
         "OXXO GAS",
         "mensual",
         "2023-01-05 00:00:00",
         "329.22",
         "3.0",
         "11"
        ],
        [
         "14",
         "0066f66c7fb0d1102f9f924a56ff65a5fcaf3cea",
         "UBER EATS",
         "mensual",
         "2023-01-05 00:00:00",
         "115.89",
         "5.7",
         "10"
        ],
        [
         "15",
         "0132462ee1acf1c37e7411b20bac94e1d19959df",
         "GOOGLE",
         "mensual",
         "2023-01-05 00:00:00",
         "37.72",
         "1.62",
         "8"
        ],
        [
         "16",
         "0132462ee1acf1c37e7411b20bac94e1d19959df",
         "ITUNES",
         "mensual",
         "2023-01-05 00:00:00",
         "4.55",
         "1.25",
         "8"
        ],
        [
         "17",
         "0132462ee1acf1c37e7411b20bac94e1d19959df",
         "OXXO",
         "mensual",
         "2023-01-05 00:00:00",
         "166.72",
         "14.8",
         "10"
        ],
        [
         "18",
         "0132462ee1acf1c37e7411b20bac94e1d19959df",
         "STARBUCKS",
         "mensual",
         "2023-01-05 00:00:00",
         "17.28",
         "1.25",
         "4"
        ],
        [
         "19",
         "0132462ee1acf1c37e7411b20bac94e1d19959df",
         "TELCEL",
         "mensual",
         "2023-01-05 00:00:00",
         "109.53",
         "2.8",
         "10"
        ],
        [
         "20",
         "0132462ee1acf1c37e7411b20bac94e1d19959df",
         "TOTAL PLAY",
         "mensual",
         "2023-01-05 00:00:00",
         "89.25",
         "1.0",
         "7"
        ],
        [
         "21",
         "0132462ee1acf1c37e7411b20bac94e1d19959df",
         "UBER EATS",
         "mensual",
         "2023-01-05 00:00:00",
         "114.8",
         "4.0",
         "8"
        ],
        [
         "22",
         "0172891ba3000c3150a6985265517678ebbf3b39",
         "AMAZON",
         "mensual",
         "2023-01-05 00:00:00",
         "74.34",
         "2.73",
         "11"
        ],
        [
         "23",
         "0172891ba3000c3150a6985265517678ebbf3b39",
         "AMAZON PRIME",
         "mensual",
         "2023-01-05 00:00:00",
         "11.62",
         "1.0",
         "11"
        ],
        [
         "24",
         "0172891ba3000c3150a6985265517678ebbf3b39",
         "NETFLIX",
         "mensual",
         "2023-01-05 00:00:00",
         "53.71",
         "1.27",
         "11"
        ],
        [
         "25",
         "0172891ba3000c3150a6985265517678ebbf3b39",
         "UBER",
         "mensual",
         "2023-01-05 00:00:00",
         "176.25",
         "12.29",
         "7"
        ],
        [
         "26",
         "0172891ba3000c3150a6985265517678ebbf3b39",
         "UBER EATS",
         "mensual",
         "2023-01-05 00:00:00",
         "159.3",
         "6.0",
         "7"
        ],
        [
         "27",
         "0172891ba3000c3150a6985265517678ebbf3b39",
         "UNDOSTRES",
         "mensual",
         "2023-01-05 00:00:00",
         "24.6",
         "2.0",
         "3"
        ],
        [
         "28",
         "01d12d1c5b58348995b71cf1d5eb9257fa64d95b",
         "AMAZON",
         "mensual",
         "2023-01-05 00:00:00",
         "165.42",
         "2.8",
         "5"
        ],
        [
         "29",
         "01d12d1c5b58348995b71cf1d5eb9257fa64d95b",
         "AMAZON PRIME",
         "mensual",
         "2023-01-05 00:00:00",
         "15.85",
         "1.36",
         "11"
        ],
        [
         "30",
         "01d12d1c5b58348995b71cf1d5eb9257fa64d95b",
         "CRUNCHYROLL",
         "mensual",
         "2023-01-05 00:00:00",
         "17.36",
         "1.0",
         "11"
        ],
        [
         "31",
         "01d12d1c5b58348995b71cf1d5eb9257fa64d95b",
         "MELIMAS",
         "mensual",
         "2023-01-05 00:00:00",
         "15.16",
         "1.0",
         "11"
        ],
        [
         "32",
         "01d12d1c5b58348995b71cf1d5eb9257fa64d95b",
         "MERCADO PAGO",
         "mensual",
         "2023-01-05 00:00:00",
         "1070.29",
         "6.83",
         "6"
        ],
        [
         "33",
         "01d12d1c5b58348995b71cf1d5eb9257fa64d95b",
         "NETFLIX",
         "mensual",
         "2023-01-05 00:00:00",
         "34.9",
         "1.0",
         "11"
        ],
        [
         "34",
         "01d12d1c5b58348995b71cf1d5eb9257fa64d95b",
         "RAPPI",
         "mensual",
         "2023-01-05 00:00:00",
         "86.4",
         "2.5",
         "6"
        ],
        [
         "35",
         "01d12d1c5b58348995b71cf1d5eb9257fa64d95b",
         "RAPPIPRO",
         "mensual",
         "2023-01-05 00:00:00",
         "12.76",
         "1.0",
         "5"
        ],
        [
         "36",
         "01d12d1c5b58348995b71cf1d5eb9257fa64d95b",
         "UNDOSTRES",
         "mensual",
         "2023-01-05 00:00:00",
         "70.01",
         "5.09",
         "11"
        ],
        [
         "37",
         "0222064a58a1778a4d7a9e10088174a532e71553",
         "7 ELEVEN",
         "mensual",
         "2023-01-05 00:00:00",
         "10.81",
         "1.0",
         "4"
        ],
        [
         "38",
         "0222064a58a1778a4d7a9e10088174a532e71553",
         "AMAZON",
         "mensual",
         "2023-01-05 00:00:00",
         "176.85",
         "2.91",
         "11"
        ],
        [
         "39",
         "0222064a58a1778a4d7a9e10088174a532e71553",
         "SPOTIFY",
         "mensual",
         "2023-01-05 00:00:00",
         "12.87",
         "1.0",
         "11"
        ],
        [
         "40",
         "0225c1f9c7e66dc02b44b9a00cdd0fa9ba5a4c71",
         "APPLE",
         "mensual",
         "2023-01-05 00:00:00",
         "69.81",
         "7.5",
         "6"
        ],
        [
         "41",
         "0225c1f9c7e66dc02b44b9a00cdd0fa9ba5a4c71",
         "SAMS CLUB",
         "mensual",
         "2023-01-05 00:00:00",
         "436.3",
         "4.25",
         "4"
        ],
        [
         "42",
         "0225c1f9c7e66dc02b44b9a00cdd0fa9ba5a4c71",
         "SEARS",
         "mensual",
         "2023-01-05 00:00:00",
         "1347.31",
         "1.0",
         "9"
        ],
        [
         "43",
         "029be42d942d33a14cafeef661143d8940a9efa8",
         "SPOTIFY",
         "mensual",
         "2023-01-05 00:00:00",
         "19.66",
         "1.0",
         "11"
        ],
        [
         "44",
         "02a73132fe5c2af6d596eec88629c754d9e9c860",
         "MICROSOFT",
         "mensual",
         "2023-01-05 00:00:00",
         "19.88",
         "1.09",
         "11"
        ],
        [
         "45",
         "02a73132fe5c2af6d596eec88629c754d9e9c860",
         "UBER",
         "mensual",
         "2023-01-05 00:00:00",
         "86.85",
         "7.55",
         "11"
        ],
        [
         "46",
         "02b41a28e9c440a28577c71daec52258dc817866",
         "7 ELEVEN",
         "mensual",
         "2023-01-05 00:00:00",
         "52.14",
         "3.62",
         "8"
        ],
        [
         "47",
         "02b41a28e9c440a28577c71daec52258dc817866",
         "GOOGLE YOUTUBEPREMIUM",
         "mensual",
         "2023-01-05 00:00:00",
         "32.29",
         "1.0",
         "7"
        ],
        [
         "48",
         "02b41a28e9c440a28577c71daec52258dc817866",
         "MICROSOFT",
         "mensual",
         "2023-01-05 00:00:00",
         "50.04",
         "1.91",
         "11"
        ],
        [
         "49",
         "02b41a28e9c440a28577c71daec52258dc817866",
         "SPOTIFY",
         "mensual",
         "2023-01-05 00:00:00",
         "23.1",
         "1.0",
         "7"
        ]
       ],
       "shape": {
        "columns": 7,
        "rows": 5218
       }
      },
      "text/html": [
       "<div>\n",
       "<style scoped>\n",
       "    .dataframe tbody tr th:only-of-type {\n",
       "        vertical-align: middle;\n",
       "    }\n",
       "\n",
       "    .dataframe tbody tr th {\n",
       "        vertical-align: top;\n",
       "    }\n",
       "\n",
       "    .dataframe thead th {\n",
       "        text-align: right;\n",
       "    }\n",
       "</style>\n",
       "<table border=\"1\" class=\"dataframe\">\n",
       "  <thead>\n",
       "    <tr style=\"text-align: right;\">\n",
       "      <th></th>\n",
       "      <th>id</th>\n",
       "      <th>comercio</th>\n",
       "      <th>patron</th>\n",
       "      <th>fecha_estimado</th>\n",
       "      <th>monto_estimado</th>\n",
       "      <th>promedio_transacciones_mes</th>\n",
       "      <th>meses_de_recurrencia</th>\n",
       "    </tr>\n",
       "  </thead>\n",
       "  <tbody>\n",
       "    <tr>\n",
       "      <th>0</th>\n",
       "      <td>003d9abe467a91847d566cf455bd2d7d6c8f7e75</td>\n",
       "      <td>AMAZON PRIME</td>\n",
       "      <td>mensual</td>\n",
       "      <td>2023-01-05</td>\n",
       "      <td>11.62</td>\n",
       "      <td>1.00</td>\n",
       "      <td>11</td>\n",
       "    </tr>\n",
       "    <tr>\n",
       "      <th>1</th>\n",
       "      <td>003d9abe467a91847d566cf455bd2d7d6c8f7e75</td>\n",
       "      <td>DIDI RIDES</td>\n",
       "      <td>mensual</td>\n",
       "      <td>2023-01-05</td>\n",
       "      <td>87.42</td>\n",
       "      <td>10.18</td>\n",
       "      <td>11</td>\n",
       "    </tr>\n",
       "    <tr>\n",
       "      <th>2</th>\n",
       "      <td>003d9abe467a91847d566cf455bd2d7d6c8f7e75</td>\n",
       "      <td>MERCADO PAGO</td>\n",
       "      <td>mensual</td>\n",
       "      <td>2023-01-05</td>\n",
       "      <td>51.05</td>\n",
       "      <td>1.86</td>\n",
       "      <td>7</td>\n",
       "    </tr>\n",
       "    <tr>\n",
       "      <th>3</th>\n",
       "      <td>003d9abe467a91847d566cf455bd2d7d6c8f7e75</td>\n",
       "      <td>SPOTIFY</td>\n",
       "      <td>mensual</td>\n",
       "      <td>2023-01-05</td>\n",
       "      <td>23.10</td>\n",
       "      <td>1.00</td>\n",
       "      <td>11</td>\n",
       "    </tr>\n",
       "    <tr>\n",
       "      <th>4</th>\n",
       "      <td>003d9abe467a91847d566cf455bd2d7d6c8f7e75</td>\n",
       "      <td>UBER</td>\n",
       "      <td>mensual</td>\n",
       "      <td>2023-01-05</td>\n",
       "      <td>257.08</td>\n",
       "      <td>31.73</td>\n",
       "      <td>11</td>\n",
       "    </tr>\n",
       "    <tr>\n",
       "      <th>...</th>\n",
       "      <td>...</td>\n",
       "      <td>...</td>\n",
       "      <td>...</td>\n",
       "      <td>...</td>\n",
       "      <td>...</td>\n",
       "      <td>...</td>\n",
       "      <td>...</td>\n",
       "    </tr>\n",
       "    <tr>\n",
       "      <th>5213</th>\n",
       "      <td>fe9415c62193f2d430a0340c31064ec512b27c8c</td>\n",
       "      <td>TELMEX</td>\n",
       "      <td>mensual</td>\n",
       "      <td>2023-01-05</td>\n",
       "      <td>69.05</td>\n",
       "      <td>1.00</td>\n",
       "      <td>11</td>\n",
       "    </tr>\n",
       "    <tr>\n",
       "      <th>5214</th>\n",
       "      <td>ff67da037fae796809be0e36fb9cdd0e191c38a4</td>\n",
       "      <td>DISNEY PLUS</td>\n",
       "      <td>mensual</td>\n",
       "      <td>2023-01-05</td>\n",
       "      <td>34.59</td>\n",
       "      <td>1.00</td>\n",
       "      <td>5</td>\n",
       "    </tr>\n",
       "    <tr>\n",
       "      <th>5215</th>\n",
       "      <td>ff67da037fae796809be0e36fb9cdd0e191c38a4</td>\n",
       "      <td>GOOGLE YOUTUBEPREMIUM</td>\n",
       "      <td>mensual</td>\n",
       "      <td>2023-01-05</td>\n",
       "      <td>32.29</td>\n",
       "      <td>1.00</td>\n",
       "      <td>11</td>\n",
       "    </tr>\n",
       "    <tr>\n",
       "      <th>5216</th>\n",
       "      <td>ff67da037fae796809be0e36fb9cdd0e191c38a4</td>\n",
       "      <td>MEGACABLE</td>\n",
       "      <td>mensual</td>\n",
       "      <td>2023-01-05</td>\n",
       "      <td>158.14</td>\n",
       "      <td>1.82</td>\n",
       "      <td>11</td>\n",
       "    </tr>\n",
       "    <tr>\n",
       "      <th>5217</th>\n",
       "      <td>ff67da037fae796809be0e36fb9cdd0e191c38a4</td>\n",
       "      <td>RAPPI</td>\n",
       "      <td>mensual</td>\n",
       "      <td>2023-01-05</td>\n",
       "      <td>101.84</td>\n",
       "      <td>2.25</td>\n",
       "      <td>4</td>\n",
       "    </tr>\n",
       "  </tbody>\n",
       "</table>\n",
       "<p>5218 rows × 7 columns</p>\n",
       "</div>"
      ],
      "text/plain": [
       "                                            id               comercio  \\\n",
       "0     003d9abe467a91847d566cf455bd2d7d6c8f7e75           AMAZON PRIME   \n",
       "1     003d9abe467a91847d566cf455bd2d7d6c8f7e75             DIDI RIDES   \n",
       "2     003d9abe467a91847d566cf455bd2d7d6c8f7e75           MERCADO PAGO   \n",
       "3     003d9abe467a91847d566cf455bd2d7d6c8f7e75                SPOTIFY   \n",
       "4     003d9abe467a91847d566cf455bd2d7d6c8f7e75                   UBER   \n",
       "...                                        ...                    ...   \n",
       "5213  fe9415c62193f2d430a0340c31064ec512b27c8c                 TELMEX   \n",
       "5214  ff67da037fae796809be0e36fb9cdd0e191c38a4            DISNEY PLUS   \n",
       "5215  ff67da037fae796809be0e36fb9cdd0e191c38a4  GOOGLE YOUTUBEPREMIUM   \n",
       "5216  ff67da037fae796809be0e36fb9cdd0e191c38a4              MEGACABLE   \n",
       "5217  ff67da037fae796809be0e36fb9cdd0e191c38a4                  RAPPI   \n",
       "\n",
       "       patron fecha_estimado  monto_estimado  promedio_transacciones_mes  \\\n",
       "0     mensual     2023-01-05           11.62                        1.00   \n",
       "1     mensual     2023-01-05           87.42                       10.18   \n",
       "2     mensual     2023-01-05           51.05                        1.86   \n",
       "3     mensual     2023-01-05           23.10                        1.00   \n",
       "4     mensual     2023-01-05          257.08                       31.73   \n",
       "...       ...            ...             ...                         ...   \n",
       "5213  mensual     2023-01-05           69.05                        1.00   \n",
       "5214  mensual     2023-01-05           34.59                        1.00   \n",
       "5215  mensual     2023-01-05           32.29                        1.00   \n",
       "5216  mensual     2023-01-05          158.14                        1.82   \n",
       "5217  mensual     2023-01-05          101.84                        2.25   \n",
       "\n",
       "      meses_de_recurrencia  \n",
       "0                       11  \n",
       "1                       11  \n",
       "2                        7  \n",
       "3                       11  \n",
       "4                       11  \n",
       "...                    ...  \n",
       "5213                    11  \n",
       "5214                     5  \n",
       "5215                    11  \n",
       "5216                    11  \n",
       "5217                     4  \n",
       "\n",
       "[5218 rows x 7 columns]"
      ]
     },
     "execution_count": 6,
     "metadata": {},
     "output_type": "execute_result"
    }
   ],
   "source": [
    "predicciones = []\n",
    "\n",
    "for (cliente, comercio), grupo_original in resumen_mensual.groupby(['id', 'comercio']):\n",
    "    grupo = grupo_original[grupo_original['año_mes'] < ultimo_mes].copy()\n",
    "    grupo = grupo.sort_values('año_mes').reset_index(drop=True)\n",
    "\n",
    "    if len(grupo) < 4:\n",
    "        continue\n",
    "\n",
    "    meses_dt = pd.Series(pd.PeriodIndex(grupo['año_mes'], freq='M'))\n",
    "    difs = meses_dt.diff().dropna().apply(lambda x: x.n)\n",
    "\n",
    "    for tipo, nombre_patron in [(1, 'mensual'), (2, 'bimestral')]:\n",
    "        indices_patron = difs[difs == tipo].index\n",
    "\n",
    "        # Buscar secuencias\n",
    "        secuencias = []\n",
    "        sec_actual = []\n",
    "        for idx in indices_patron:\n",
    "            if not sec_actual or idx == sec_actual[-1] + 1:\n",
    "                sec_actual.append(idx)\n",
    "            else:\n",
    "                if len(sec_actual) >= 2:\n",
    "                    secuencias.append(sec_actual)\n",
    "                sec_actual = [idx]\n",
    "        if len(sec_actual) >= 2:\n",
    "            secuencias.append(sec_actual)\n",
    "\n",
    "        if not secuencias:\n",
    "            continue\n",
    "\n",
    "        secuencia_larga = max(secuencias, key=len)\n",
    "        meses_validos = grupo.loc[secuencia_larga[0]:secuencia_larga[-1]+1]\n",
    "\n",
    "        ultimos_3 = [ultimo_mes - i for i in range(1, 4)]\n",
    "        presentes = meses_validos['año_mes'].isin(ultimos_3).sum()\n",
    "        if presentes < 3:\n",
    "            continue\n",
    "\n",
    "        monto_promedio = meses_validos['monto_total'].mean()\n",
    "        transacciones_prom = meses_validos['transacciones_mes'].mean()\n",
    "        meses_de_recurrencia = len(meses_validos)\n",
    "\n",
    "        año, mes = ultimo_mes.year, ultimo_mes.month\n",
    "        dia_valido = min(5, calendar.monthrange(año, mes)[1])\n",
    "        fecha_estimado = datetime(año, mes, dia_valido)\n",
    "\n",
    "        predicciones.append({\n",
    "            'id': cliente,\n",
    "            'comercio': comercio,\n",
    "            'patron': nombre_patron,\n",
    "            'fecha_estimado': fecha_estimado,\n",
    "            'monto_estimado': round(monto_promedio, 2),\n",
    "            'promedio_transacciones_mes': round(transacciones_prom, 2),\n",
    "            'meses_de_recurrencia': meses_de_recurrencia\n",
    "        })\n",
    "\n",
    "df_predicciones = pd.DataFrame(predicciones)\n",
    "df_predicciones"
   ]
  },
  {
   "cell_type": "markdown",
   "id": "825e71a6",
   "metadata": {},
   "source": [
    "## ✅ 5. Validación: cálculo del porcentaje de aciertos\n",
    "\n",
    "Se compara si para cada predicción hubo efectivamente una transacción en ultimo_mes, para evaluar la precisión del modelo."
   ]
  },
  {
   "cell_type": "code",
   "execution_count": 5,
   "id": "4f07f48f",
   "metadata": {},
   "outputs": [
    {
     "name": "stdout",
     "output_type": "stream",
     "text": [
      "Predicciones acertadas: 4702 de 5218\n",
      "Porcentaje de aciertos: 90.11%\n"
     ]
    },
    {
     "name": "stderr",
     "output_type": "stream",
     "text": [
      "/var/folders/6h/nf6jxxkx3c98vxmkgwqt8jzw0000gn/T/ipykernel_5077/3383190450.py:6: SettingWithCopyWarning: \n",
      "A value is trying to be set on a copy of a slice from a DataFrame.\n",
      "Try using .loc[row_indexer,col_indexer] = value instead\n",
      "\n",
      "See the caveats in the documentation: https://pandas.pydata.org/pandas-docs/stable/user_guide/indexing.html#returning-a-view-versus-a-copy\n",
      "  reales_ultimo_mes['clave'] = reales_ultimo_mes['id'].astype(str) + '___' + reales_ultimo_mes['comercio']\n"
     ]
    }
   ],
   "source": [
    "# Transacciones reales del último mes\n",
    "reales_ultimo_mes = resumen_mensual[resumen_mensual['año_mes'] == ultimo_mes]\n",
    "\n",
    "# Crear claves para facilitar comparación\n",
    "df_predicciones['clave'] = df_predicciones['id'].astype(str) + '___' + df_predicciones['comercio']\n",
    "reales_ultimo_mes['clave'] = reales_ultimo_mes['id'].astype(str) + '___' + reales_ultimo_mes['comercio']\n",
    "\n",
    "# Comparación\n",
    "predicciones_acertadas = df_predicciones['clave'].isin(reales_ultimo_mes['clave']).sum()\n",
    "total_predicciones = len(df_predicciones)\n",
    "\n",
    "# Porcentaje de acierto\n",
    "porcentaje_acierto = (predicciones_acertadas / total_predicciones) * 100 if total_predicciones > 0 else 0\n",
    "\n",
    "print(f\"Predicciones acertadas: {predicciones_acertadas} de {total_predicciones}\")\n",
    "print(f\"Porcentaje de aciertos: {porcentaje_acierto:.2f}%\")"
   ]
  }
 ],
 "metadata": {
  "kernelspec": {
   "display_name": "tensorflow-env",
   "language": "python",
   "name": "python3"
  },
  "language_info": {
   "codemirror_mode": {
    "name": "ipython",
    "version": 3
   },
   "file_extension": ".py",
   "mimetype": "text/x-python",
   "name": "python",
   "nbconvert_exporter": "python",
   "pygments_lexer": "ipython3",
   "version": "3.9.13"
  }
 },
 "nbformat": 4,
 "nbformat_minor": 5
}
